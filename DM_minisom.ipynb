{
  "nbformat": 4,
  "nbformat_minor": 0,
  "metadata": {
    "colab": {
      "provenance": []
    },
    "kernelspec": {
      "name": "python3",
      "display_name": "Python 3"
    },
    "language_info": {
      "name": "python"
    }
  },
  "cells": [
    {
      "cell_type": "code",
      "execution_count": null,
      "metadata": {
        "id": "_OXrb-MY-ME2"
      },
      "outputs": [],
      "source": [
        "!pip install minisom"
      ]
    },
    {
      "cell_type": "code",
      "source": [
        "from minisom import MiniSom\n",
        "from sklearn.model_selection import train_test_split\n",
        "import numpy as np\n",
        "import matplotlib.pyplot as plt\n",
        "%matplotlib inline\n",
        "\n",
        "from sklearn import datasets, metrics\n",
        "from sklearn.preprocessing import scale\n",
        "\n",
        "# load the digits dataset from scikit-learn\n",
        "digits = datasets.load_digits(n_class=10)\n",
        "data = digits.data  # matrix where each row is a vector that represent a digit.\n",
        "data = scale(data)\n",
        "num = digits.target  # num[i] is the digit represented by data[i]\n",
        "# MiniSom(x,y, input_length,sigma)\n",
        "som = MiniSom(8,8, 64, sigma=1,\n",
        "              learning_rate=0.05, neighborhood_function='gaussian')\n",
        "som.pca_weights_init(data)\n",
        "som.train(data, 500000, random_order=False, verbose=True)  # random training"
      ],
      "metadata": {
        "id": "ki-n3Gme-SDE"
      },
      "execution_count": null,
      "outputs": []
    },
    {
      "cell_type": "code",
      "source": [
        "plt.figure(figsize=(10, 10))\n",
        "wmap = {}\n",
        "im = 0\n",
        "for x, t in zip(data, num):  # scatterplot\n",
        "    w = som.winner(x)\n",
        "    wmap[w] = im\n",
        "    plt.pcolor(som.distance_map().T, cmap='gray_r', alpha=.2)\n",
        "    plt. text(w[0]+.5,  w[1]+.5,  str(t),\n",
        "              color=plt.cm.rainbow(t / 10.), fontdict={'weight': 'bold',  'size': 18})\n",
        "    im = im + 1\n",
        "plt.axis([0, som.get_weights().shape[0], 0,  som.get_weights().shape[1]])\n",
        "\n",
        "#plt.savefig('resulting_images/som_digts.png')\n",
        "plt.show()"
      ],
      "metadata": {
        "id": "goe2c4Fx-UNl"
      },
      "execution_count": null,
      "outputs": []
    },
    {
      "cell_type": "code",
      "source": [
        "size = 8\n",
        "W = som.get_weights()\n",
        "plt.figure(figsize=(10, 10))\n",
        "for i in np.arange(0,64):\n",
        "    plt.subplot(8, 8, i+1)\n",
        "    plt.title(i)\n",
        "    plt.pcolor(W[:,:,i], cmap='coolwarm')\n",
        "    plt.xticks(np.arange(size+1))\n",
        "    plt.yticks(np.arange(size+1))\n",
        "plt.tight_layout()\n",
        "plt.show()"
      ],
      "metadata": {
        "id": "kFjwLKzE-a30"
      },
      "execution_count": null,
      "outputs": []
    }
  ]
}